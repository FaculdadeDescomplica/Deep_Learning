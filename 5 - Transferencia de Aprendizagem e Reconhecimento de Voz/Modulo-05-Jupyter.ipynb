{
 "cells": [
  {
   "cell_type": "code",
   "execution_count": null,
   "id": "ae868111",
   "metadata": {},
   "outputs": [],
   "source": [
    "Parte 05 - Testando o Modelo"
   ]
  },
  {
   "cell_type": "code",
   "execution_count": 6,
   "id": "86dd0f58",
   "metadata": {},
   "outputs": [
    {
     "name": "stdout",
     "output_type": "stream",
     "text": [
      "Pode falar que eu vou gravar\n",
      "result2:\n",
      "{   'alternative': [   {   'confidence': 0.78589952,\n",
      "                           'transcript': 'a inteligência artificial é muito '\n",
      "                                         'boa por isso eu gosto muito de da '\n",
      "                                         'aula de inteligência artificial para '\n",
      "                                         'todos os meus alunos'},\n",
      "                       {   'transcript': 'a inteligência artificial é muito '\n",
      "                                         'boa por isso eu gosto muito da aula '\n",
      "                                         'de inteligência artificial para '\n",
      "                                         'todos os meus alunos'},\n",
      "                       {   'transcript': 'a inteligência artificial é muito '\n",
      "                                         'boa por isso eu gosto muito de da '\n",
      "                                         'aula de inteligência artificial para '\n",
      "                                         'todos os alunos'}],\n",
      "    'final': True}\n",
      "a inteligência artificial é muito boa por isso eu gosto muito de da aula de inteligência artificial para todos os meus alunos\n"
     ]
    }
   ],
   "source": [
    "#pip install pipwin\n",
    "#pipwin install pyaudio\n",
    "#pip install SpeechRecognition\n",
    "import speech_recognition as sr\n",
    "\n",
    "rec = sr.Recognizer()\n",
    "#print(sr.Microphone().list_microphone_names())\n",
    "\n",
    "with sr.Microphone(0) as mic:\n",
    "    rec.adjust_for_ambient_noise(mic)\n",
    "    print(\"Pode falar que eu vou gravar\")\n",
    "    audio = rec.listen(mic)\n",
    "    texto = rec.recognize_google(audio, language=\"pt-BR\")\n",
    "    print(texto)\n"
   ]
  },
  {
   "cell_type": "code",
   "execution_count": null,
   "id": "373b4574",
   "metadata": {},
   "outputs": [],
   "source": []
  },
  {
   "cell_type": "code",
   "execution_count": null,
   "id": "1f3f19ed",
   "metadata": {},
   "outputs": [],
   "source": []
  },
  {
   "cell_type": "code",
   "execution_count": null,
   "id": "5038f788",
   "metadata": {},
   "outputs": [],
   "source": []
  }
 ],
 "metadata": {
  "kernelspec": {
   "display_name": "Python 3 (ipykernel)",
   "language": "python",
   "name": "python3"
  },
  "language_info": {
   "codemirror_mode": {
    "name": "ipython",
    "version": 3
   },
   "file_extension": ".py",
   "mimetype": "text/x-python",
   "name": "python",
   "nbconvert_exporter": "python",
   "pygments_lexer": "ipython3",
   "version": "3.9.15"
  }
 },
 "nbformat": 4,
 "nbformat_minor": 5
}
