{
  "nbformat": 4,
  "nbformat_minor": 0,
  "metadata": {
    "colab": {
      "provenance": []
    },
    "kernelspec": {
      "name": "python3",
      "display_name": "Python 3"
    },
    "language_info": {
      "name": "python"
    }
  },
  "cells": [
    {
      "cell_type": "code",
      "execution_count": null,
      "metadata": {
        "colab": {
          "base_uri": "https://localhost:8080/",
          "height": 334
        },
        "id": "s-bzDOTJx1IE",
        "outputId": "9c342c2c-70f1-4a64-d118-89416a20182a"
      },
      "outputs": [
        {
          "output_type": "stream",
          "name": "stdout",
          "text": [
            "Input type: Tensor(\"Const_3:0\", shape=(6,), dtype=float32)\n",
            "Input: [ 1.  -0.5  3.4 -2.1  0.  -6.5]\n",
            "Return type: Tensor(\"ReLU_3:0\", shape=(6,), dtype=float32)\n",
            "Output: [1.  0.  3.4 0.  0.  0. ]\n"
          ]
        },
        {
          "output_type": "display_data",
          "data": {
            "text/plain": [
              "<Figure size 432x288 with 1 Axes>"
            ],
            "image/png": "[encoded data removed]"
          },
          "metadata": {
            "needs_background": "light"
          }
        }
      ],
      "source": [
        "# Importing the Tensorflow library\n",
        "import tensorflow as tf\n",
        "  \n",
        "# A constant vector of size 6\n",
        "a = tf.constant([1.0, -0.5, 3.4, -2.1, 0.0, -6.5], dtype = tf.float32)\n",
        "  \n",
        "# Applying the ReLu function and\n",
        "# storing the result in 'b'\n",
        "b = tf.nn.relu(a, name ='ReLU')\n",
        "\n",
        "\n",
        "tf.compat.v1.disable_eager_execution()\n",
        "import matplotlib.pyplot as plt  \n",
        "\n",
        "\n",
        "# Initiating a Tensorflow session\n",
        "with tf.compat.v1.Session() as sess:\n",
        "    print('Input type:', a)\n",
        "    print('Input:', sess.run(a))\n",
        "    print('Return type:', b)\n",
        "    print('Output:', sess.run(b))\n",
        "    plt.plot(sess.run(b))  \n",
        "    plt.grid()  \n",
        "    plt.show()\n",
        "\n"
      ]
    }
  ]
}