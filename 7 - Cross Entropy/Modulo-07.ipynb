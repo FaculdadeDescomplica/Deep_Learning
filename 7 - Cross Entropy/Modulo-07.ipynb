{
  "nbformat": 4,
  "nbformat_minor": 0,
  "metadata": {
    "colab": {
      "provenance": []
    },
    "kernelspec": {
      "name": "python3",
      "display_name": "Python 3"
    },
    "language_info": {
      "name": "python"
    }
  },
  "cells": [
    {
      "cell_type": "code",
      "execution_count": null,
      "metadata": {
        "colab": {
          "base_uri": "https://localhost:8080/"
        },
        "id": "xWHxXxab5m4C",
        "outputId": "9d047f64-beee-4813-d8bd-ec779659f989"
      },
      "outputs": [
        {
          "output_type": "stream",
          "name": "stdout",
          "text": [
            "x = [-2.2 -1.4 -0.8  0.2  0.4  0.8  1.2  2.2  2.9  4.6]\n",
            "y = [0. 0. 1. 0. 1. 1. 1. 1. 1. 1.]\n",
            "p(y) = [0.19 0.33 0.47 0.7  0.74 0.81 0.86 0.94 0.97 0.99]\n",
            "Log Loss / Cross Entropy = 0.3329\n",
            "MSE = 0.1044\n"
          ]
        }
      ],
      "source": [
        "from sklearn.linear_model import LogisticRegression\n",
        "from sklearn.metrics import log_loss\n",
        "from sklearn.metrics import mean_squared_error\n",
        "import numpy as np\n",
        "import sklearn.metrics\n",
        "import sklearn\n",
        "sklearn.metrics.log_loss\n",
        "\n",
        "\n",
        "\n",
        "x = np.array([-2.2, -1.4, -.8, .2, .4, .8, 1.2, 2.2, 2.9, 4.6])\n",
        "y = np.array([0.0, 0.0, 1.0, 0.0, 1.0, 1.0, 1.0, 1.0, 1.0, 1.0])\n",
        "\n",
        "logr = LogisticRegression(solver='lbfgs')\n",
        "logr.fit(x.reshape(-1, 1), y)\n",
        "\n",
        "y_pred = logr.predict_proba(x.reshape(-1, 1))[:, 1].ravel()\n",
        "loss = log_loss(y, y_pred)\n",
        "loss2 = mean_squared_error(y,y_pred)\n",
        "\n",
        "print('x = {}'.format(x))\n",
        "print('y = {}'.format(y))\n",
        "print('p(y) = {}'.format(np.round(y_pred, 2)))\n",
        "print('Log Loss / Cross Entropy = {:.4f}'.format(loss))\n",
        "print('MSE = {:.4f}'.format(loss2))"
      ]
    },
    {
      "cell_type": "markdown",
      "source": [
        "Parte 4 - Calculando a Cross-Entropy\n"
      ],
      "metadata": {
        "id": "NG-d8LMOZrNS"
      }
    }
  ]
}